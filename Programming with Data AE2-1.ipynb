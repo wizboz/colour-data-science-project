{
 "cells": [
  {
   "cell_type": "markdown",
   "id": "604485a6",
   "metadata": {},
   "source": [
    "# **The Colour Language Game**"
   ]
  },
  {
   "cell_type": "markdown",
   "id": "7ccb8445",
   "metadata": {},
   "source": [
    "Programming with Data AE2"
   ]
  },
  {
   "cell_type": "markdown",
   "id": "fc3277dc",
   "metadata": {},
   "source": [
    "# Abstract"
   ]
  },
  {
   "cell_type": "markdown",
   "id": "0774dbc7",
   "metadata": {},
   "source": [
    "The methods section of this notebook includes a range of functions for analysing datasets with pandas, such as calculating the Euclidean distance between two arrays. In the Results section I use these functions to create a program called Bob which simulates the collective intelligence of a player playing a Colour Language Game. Bob uses the functions established in methods to analysis these datasets and present the findings in a performance report that includes visualisations. Finally in the conclusions section, I discuss the ethical ramifications of this analysis and the potential unintended consequences of poor use."
   ]
  },
  {
   "cell_type": "markdown",
   "id": "d61000e2",
   "metadata": {},
   "source": [
    "#### Keywords:"
   ]
  },
  {
   "cell_type": "markdown",
   "id": "5b41804c",
   "metadata": {},
   "source": [
    "Language-learning, colours, python, pandas, numpy"
   ]
  },
  {
   "cell_type": "markdown",
   "id": "98e6f3ca",
   "metadata": {},
   "source": [
    "# Introduction"
   ]
  },
  {
   "cell_type": "markdown",
   "id": "757cb253",
   "metadata": {},
   "source": [
    "This Python Notebook aims to analyse a dataset from an online experiment that consists of thousands of colour naming responses mapped to RGB triplets by thousands of participants against the X11 reference dataset. The first dataset is being used to simualate the responses of players of a Colour Naming Game, in which a fictional character called Alice asks the players to identify the corresponding RGB values for a given English colour term. This notebook tests the game by building a synthetic player with collective intelligence, called Bob, which uses and performing analysis on the colour naming dataset."
   ]
  },
  {
   "cell_type": "markdown",
   "id": "a65771a4",
   "metadata": {},
   "source": [
    "# Methods"
   ]
  },
  {
   "cell_type": "markdown",
   "id": "0de95924",
   "metadata": {},
   "source": [
    "## Required Modules:"
   ]
  },
  {
   "cell_type": "code",
   "execution_count": 1,
   "id": "2063dc4e",
   "metadata": {},
   "outputs": [
    {
     "name": "stderr",
     "output_type": "stream",
     "text": [
      "C:\\Users\\Isobel\\anaconda3\\lib\\site-packages\\nbformat\\current.py:15: UserWarning: nbformat.current is deprecated.\n",
      "\n",
      "- use nbformat for read/write/validate public API\n",
      "- use nbformat.vX directly to composing notebooks of a particular version\n",
      "\n",
      "  warnings.warn(\"\"\"nbformat.current is deprecated.\n"
     ]
    }
   ],
   "source": [
    "import io, time, os, string, pandas as pd, numpy as np, matplotlib.pyplot as plt\n",
    "from nbformat import current\n",
    "from PIL import Image"
   ]
  },
  {
   "cell_type": "code",
   "execution_count": 2,
   "id": "e4de2dc7",
   "metadata": {},
   "outputs": [],
   "source": [
    "pd.set_option(\"display.max_rows\", None, \"display.max_columns\", None) \n",
    "pd.set_option(\"display.max_rows\", 9, \"display.max_columns\", None)"
   ]
  },
  {
   "cell_type": "markdown",
   "id": "2f89b9bb",
   "metadata": {},
   "source": [
    "## Required Functions:"
   ]
  },
  {
   "cell_type": "markdown",
   "id": "9246ae95",
   "metadata": {},
   "source": [
    "The following function prepares the raw data for analysis by making consistent the case of all letters and removing punctuations marks and unnecessary white spaces. It takes the name of the data-frame that you wish to clean and the name of the column within that data-frame as parameters. The function must be applied to each column of the data-frame individually. The return value is a copy of the original data-frame with the column cleaned.  "
   ]
  },
  {
   "cell_type": "code",
   "execution_count": 3,
   "id": "c4783fb8",
   "metadata": {},
   "outputs": [],
   "source": [
    "def clean_df(df, column_name):\n",
    "    \"\"\"Standardise the format of a column in a DataFrame.\"\"\"\n",
    "    # remove all spaces\n",
    "    df[column_name] = df[column_name].str.replace(\" \", \"\")\n",
    "    # remove all punctuation\n",
    "    translator = str.maketrans('', '', string.punctuation)\n",
    "    df[column_name] = df[column_name].str.lower().str.translate(translator).str.strip()\n",
    "    return df"
   ]
  },
  {
   "cell_type": "markdown",
   "id": "98a51129",
   "metadata": {},
   "source": [
    "I have chosen to remove all spaces so that the hyphen character does not need to be replaced with a white space but the words remain consistent with each other. I have also opted not to remove numbers from the dataset. Thus, for example, I treat 'grey' and 'grey42' as distinct shades of grey which qualify as different colours."
   ]
  },
  {
   "cell_type": "markdown",
   "id": "3f0b792a",
   "metadata": {},
   "source": [
    "The following function takes the names of the two arrays as parameters, calculates the euclidean distance between the two arrays and returns the euclidean distance in the form of a float."
   ]
  },
  {
   "cell_type": "code",
   "execution_count": 4,
   "id": "9c527d17",
   "metadata": {},
   "outputs": [],
   "source": [
    "def euclidist3D (ary1, ary2):\n",
    "    \"\"\"Measure the Euclidean distance between two arrays.\"\"\"\n",
    "    distance = np.sqrt(np.square(ary1[0] - ary2[0]) \n",
    "                 + np.square(ary1[1] - ary2[1]) \n",
    "                 + np.square(ary1[2] - ary2[2]))\n",
    "    return distance"
   ]
  },
  {
   "cell_type": "markdown",
   "id": "99836997",
   "metadata": {},
   "source": [
    "The following function loads a csv file using pandas. It takes the csv file as its parameter and returns the corresponding dataframe."
   ]
  },
  {
   "cell_type": "code",
   "execution_count": 5,
   "id": "6862a47a",
   "metadata": {},
   "outputs": [],
   "source": [
    "def load_data(filename):\n",
    "    \"\"\"Load csv file.\"\"\"\n",
    "    return pd.read_csv(filename)"
   ]
  },
  {
   "cell_type": "markdown",
   "id": "e0fe9bf2",
   "metadata": {},
   "source": [
    "The following function computes the average RGB value for a specified list of colour term in the colour naming dataset. It takes the name of the dataframe, the list of colour terms that you would like the average RGB value to be calculated for and the column name (which, here, is `colour_name`) as parameters. It then returns a dataset where each colour name in the dataset is unique and has an averaged RGB value."
   ]
  },
  {
   "cell_type": "code",
   "execution_count": 6,
   "id": "cd8148f8",
   "metadata": {},
   "outputs": [],
   "source": [
    "def compute_avgs(df, colours, column_name='colour_name'):\n",
    "    \"\"\"Compute the average RGB value.\"\"\"\n",
    "    avg_df = df[df[column_name].isin(colours)].groupby(column_name)[['R', 'G', 'B']].mean()\n",
    "    return avg_df"
   ]
  },
  {
   "cell_type": "markdown",
   "id": "f95907d9",
   "metadata": {},
   "source": [
    "The following function loads and cleans the rgb_x11.csv reference file. It takes the filename as the parameter and returns the corresponding cleaned dataframe."
   ]
  },
  {
   "cell_type": "code",
   "execution_count": 7,
   "id": "128da879",
   "metadata": {},
   "outputs": [],
   "source": [
    "def load_x11_colours(filename):\n",
    "    \"\"\"Used to load and clean rgb_x11.csv\"\"\"\n",
    "    df = pd.read_csv(filename, sep=\",\", header=None, names=['R','G','B','names'], skiprows=1)\n",
    "    # cleans the dataframe according to the clean_df function\n",
    "    df = clean_df(df, 'names')\n",
    "    # removes duplicates by RGB value. \n",
    "    df = df.drop_duplicates(['R','G','B'])\n",
    "    # setting the names to be the index so we can index quickly by colour\n",
    "    df = df.set_index('names') \n",
    "    return df"
   ]
  },
  {
   "cell_type": "markdown",
   "id": "bc632d29",
   "metadata": {},
   "source": [
    "The following function takes the names of the two arrays as parameters, calculates the terms that are in both arrays, and returns this as a list."
   ]
  },
  {
   "cell_type": "code",
   "execution_count": 8,
   "id": "f7e72310",
   "metadata": {},
   "outputs": [],
   "source": [
    "def calculate_x11_known_colours(ref_colours_dict, colours):\n",
    "    \"\"\"Calculate common elements between two arrays.\"\"\"\n",
    "    return [colour for colour in colours if colour in ref_colours_dict]"
   ]
  },
  {
   "cell_type": "markdown",
   "id": "c6c460f7",
   "metadata": {},
   "source": [
    "The following function caluclates the Euclidean Distancebetween the RGB values for each colour term in the a reference dictionary and the average RGB values in the `avgs_df` dataset, for a specified list of colour terms. It does this by calling upon the previously defined `euclidist3D` function. \n",
    "\n",
    "The parameter avgs_df should be a dataframe, whereas `ref_colours` should be a dictionary and colours should be a list.  It returns a dictionary of tuples with the colour term in colours as the key and the corresponding euclidean distance as its value for each colour terms in colours."
   ]
  },
  {
   "cell_type": "code",
   "execution_count": 9,
   "id": "2d069e59",
   "metadata": {},
   "outputs": [],
   "source": [
    "def calculate_euclid_dists(avgs_df, ref_colours, colours):\n",
    "    \"\"\"Measures the euclidean distance between avgs_df and ref_colours for a specified list of colours\"\"\"\n",
    "    return {colour: euclidist3D(avgs_df.loc[colour], ref_colours[colour]) for colour in colours}"
   ]
  },
  {
   "cell_type": "markdown",
   "id": "5eb9008f",
   "metadata": {},
   "source": [
    "The following function performs an automatic test. It takes the mean euclidean distance as a value, although any float type variable could be parsed through this function, and the expected distance (which in our case is 92). If `expected_dist` does not match `rounded_dist` then the function will throw an assertion error. Otherwise, it will return `rounded_dist` and a message that the test was successful."
   ]
  },
  {
   "cell_type": "code",
   "execution_count": 10,
   "id": "f149ab5a",
   "metadata": {},
   "outputs": [],
   "source": [
    "def checkDistance(mean_dist, expected_dist):\n",
    "    \"\"\"Automatic Test\"\"\"\n",
    "    rounded_dist = int(round(mean_dist))\n",
    "    assert (int(round(rounded_dist)) == expected_dist), f'It should be {expected_dist}'\n",
    "    return 'Expected value correct', rounded_dist"
   ]
  },
  {
   "cell_type": "markdown",
   "id": "7058dc13",
   "metadata": {},
   "source": [
    "# Results"
   ]
  },
  {
   "cell_type": "markdown",
   "id": "d9eee3b2",
   "metadata": {},
   "source": [
    "In this section 'Bob' will utilise these functions throughout the following cells in order to perform certain tasks and emulate a (collective) player of the Colour Language Game in order to test the game. "
   ]
  },
  {
   "cell_type": "markdown",
   "id": "2dd8dedb",
   "metadata": {},
   "source": [
    "The first part of this program takes an input argument of a single or a list of colour terms. It then preprocesses this input by making it case consistent, converting it from a string to a list, and removing any duplicate words.\n",
    "\n",
    "However, in our analysis, we will use the following default list of 14 words for consistency: *white, black, red, yellow, green, blue, brown, purple, orange, pink, lorem, ipsum*. \n",
    "\n",
    "**Enter 'default' to use the default list of words.** "
   ]
  },
  {
   "cell_type": "code",
   "execution_count": 11,
   "id": "4868df08",
   "metadata": {},
   "outputs": [
    {
     "name": "stdout",
     "output_type": "stream",
     "text": [
      "Hi, my name is Bob! \n",
      "\n",
      "Please give me a single or a comma seperated list of colour terms. \n",
      "\n",
      "If you wish to use the default word list then please enter \"default\" into the console. \n",
      "\n",
      "Enter your chosen colours here (or enter \"default\"): default\n",
      "\n",
      "You have input the following words: white, black, yellow, green, blue, brown, purple, orange, pink, lorem, ipsum.\n"
     ]
    }
   ],
   "source": [
    "words = input(\n",
    "    f'Hi, my name is Bob! \\n\\n'\n",
    "    f'Please give me a single or a comma seperated list of colour terms. \\n\\n'\n",
    "    f'If you wish to use the default word list then please enter \"default\" into the console. \\n\\n'\n",
    "    f'Enter your chosen colours here (or enter \"default\"): '\n",
    ")\n",
    "if words == 'default':\n",
    "    words = ['white', 'black', 'yellow', 'green', 'blue', 'brown', 'purple', 'orange', 'pink', 'lorem', 'ipsum']\n",
    "else:\n",
    "    words = words.lower()\n",
    "    words = [x for x in words.split(', ')]\n",
    "    words = list(set(words))\n",
    "print(f'\\nYou have input the following words: {\", \".join(words)}.')"
   ]
  },
  {
   "cell_type": "markdown",
   "id": "945f0bf4",
   "metadata": {},
   "source": [
    "Next, Bob loads a dataset that consists of thousands of colour naming responses mapped to RGB triplets. This simulates players' responses to Alice's question."
   ]
  },
  {
   "cell_type": "markdown",
   "id": "219642e0",
   "metadata": {},
   "source": [
    "**Ensure that the colour_naming_data.csv file is in the same directory as this python noteboook before running the following cell.** "
   ]
  },
  {
   "cell_type": "code",
   "execution_count": 12,
   "id": "b5b7f207",
   "metadata": {},
   "outputs": [
    {
     "data": {
      "text/html": [
       "<div>\n",
       "<style scoped>\n",
       "    .dataframe tbody tr th:only-of-type {\n",
       "        vertical-align: middle;\n",
       "    }\n",
       "\n",
       "    .dataframe tbody tr th {\n",
       "        vertical-align: top;\n",
       "    }\n",
       "\n",
       "    .dataframe thead th {\n",
       "        text-align: right;\n",
       "    }\n",
       "</style>\n",
       "<table border=\"1\" class=\"dataframe\">\n",
       "  <thead>\n",
       "    <tr style=\"text-align: right;\">\n",
       "      <th></th>\n",
       "      <th>sample_id</th>\n",
       "      <th>colour_name</th>\n",
       "      <th>R</th>\n",
       "      <th>G</th>\n",
       "      <th>B</th>\n",
       "    </tr>\n",
       "  </thead>\n",
       "  <tbody>\n",
       "    <tr>\n",
       "      <th>0</th>\n",
       "      <td>24</td>\n",
       "      <td>dark khaki</td>\n",
       "      <td>77</td>\n",
       "      <td>72</td>\n",
       "      <td>52</td>\n",
       "    </tr>\n",
       "    <tr>\n",
       "      <th>1</th>\n",
       "      <td>64</td>\n",
       "      <td>dark brown</td>\n",
       "      <td>77</td>\n",
       "      <td>38</td>\n",
       "      <td>28</td>\n",
       "    </tr>\n",
       "    <tr>\n",
       "      <th>2</th>\n",
       "      <td>202</td>\n",
       "      <td>Pale greyish blue</td>\n",
       "      <td>111</td>\n",
       "      <td>120</td>\n",
       "      <td>164</td>\n",
       "    </tr>\n",
       "    <tr>\n",
       "      <th>3</th>\n",
       "      <td>236</td>\n",
       "      <td>pale pink</td>\n",
       "      <td>212</td>\n",
       "      <td>160</td>\n",
       "      <td>187</td>\n",
       "    </tr>\n",
       "    <tr>\n",
       "      <th>...</th>\n",
       "      <td>...</td>\n",
       "      <td>...</td>\n",
       "      <td>...</td>\n",
       "      <td>...</td>\n",
       "      <td>...</td>\n",
       "    </tr>\n",
       "    <tr>\n",
       "      <th>4996</th>\n",
       "      <td>379</td>\n",
       "      <td>red violet</td>\n",
       "      <td>125</td>\n",
       "      <td>33</td>\n",
       "      <td>99</td>\n",
       "    </tr>\n",
       "    <tr>\n",
       "      <th>4997</th>\n",
       "      <td>507</td>\n",
       "      <td>red blue</td>\n",
       "      <td>133</td>\n",
       "      <td>0</td>\n",
       "      <td>124</td>\n",
       "    </tr>\n",
       "    <tr>\n",
       "      <th>4998</th>\n",
       "      <td>551</td>\n",
       "      <td>red violet</td>\n",
       "      <td>178</td>\n",
       "      <td>120</td>\n",
       "      <td>244</td>\n",
       "    </tr>\n",
       "    <tr>\n",
       "      <th>4999</th>\n",
       "      <td>566</td>\n",
       "      <td>mid blue</td>\n",
       "      <td>77</td>\n",
       "      <td>109</td>\n",
       "      <td>247</td>\n",
       "    </tr>\n",
       "  </tbody>\n",
       "</table>\n",
       "<p>5000 rows × 5 columns</p>\n",
       "</div>"
      ],
      "text/plain": [
       "      sample_id        colour_name    R    G    B\n",
       "0            24         dark khaki   77   72   52\n",
       "1            64         dark brown   77   38   28\n",
       "2           202  Pale greyish blue  111  120  164\n",
       "3           236          pale pink  212  160  187\n",
       "...         ...                ...  ...  ...  ...\n",
       "4996        379         red violet  125   33   99\n",
       "4997        507           red blue  133    0  124\n",
       "4998        551         red violet  178  120  244\n",
       "4999        566           mid blue   77  109  247\n",
       "\n",
       "[5000 rows x 5 columns]"
      ]
     },
     "execution_count": 12,
     "metadata": {},
     "output_type": "execute_result"
    }
   ],
   "source": [
    "data = load_data('colour_naming_data.csv')\n",
    "data"
   ]
  },
  {
   "cell_type": "markdown",
   "id": "7882d4b0",
   "metadata": {},
   "source": [
    "Each colour term in this dataset is assigned to multiple RGB colour values. Hence, when cleaning the data Bob does not remove duplicates. "
   ]
  },
  {
   "cell_type": "markdown",
   "id": "7c465771",
   "metadata": {},
   "source": [
    "The next cell prepares the raw data for analysis by parsing our dataset through the `clean_df` function, which has been defined and explained above in the functions section."
   ]
  },
  {
   "cell_type": "code",
   "execution_count": 13,
   "id": "ddf5b8ab",
   "metadata": {},
   "outputs": [
    {
     "data": {
      "text/html": [
       "<div>\n",
       "<style scoped>\n",
       "    .dataframe tbody tr th:only-of-type {\n",
       "        vertical-align: middle;\n",
       "    }\n",
       "\n",
       "    .dataframe tbody tr th {\n",
       "        vertical-align: top;\n",
       "    }\n",
       "\n",
       "    .dataframe thead th {\n",
       "        text-align: right;\n",
       "    }\n",
       "</style>\n",
       "<table border=\"1\" class=\"dataframe\">\n",
       "  <thead>\n",
       "    <tr style=\"text-align: right;\">\n",
       "      <th></th>\n",
       "      <th>sample_id</th>\n",
       "      <th>colour_name</th>\n",
       "      <th>R</th>\n",
       "      <th>G</th>\n",
       "      <th>B</th>\n",
       "    </tr>\n",
       "  </thead>\n",
       "  <tbody>\n",
       "    <tr>\n",
       "      <th>0</th>\n",
       "      <td>24</td>\n",
       "      <td>darkkhaki</td>\n",
       "      <td>77</td>\n",
       "      <td>72</td>\n",
       "      <td>52</td>\n",
       "    </tr>\n",
       "    <tr>\n",
       "      <th>1</th>\n",
       "      <td>64</td>\n",
       "      <td>darkbrown</td>\n",
       "      <td>77</td>\n",
       "      <td>38</td>\n",
       "      <td>28</td>\n",
       "    </tr>\n",
       "    <tr>\n",
       "      <th>2</th>\n",
       "      <td>202</td>\n",
       "      <td>palegreyishblue</td>\n",
       "      <td>111</td>\n",
       "      <td>120</td>\n",
       "      <td>164</td>\n",
       "    </tr>\n",
       "    <tr>\n",
       "      <th>3</th>\n",
       "      <td>236</td>\n",
       "      <td>palepink</td>\n",
       "      <td>212</td>\n",
       "      <td>160</td>\n",
       "      <td>187</td>\n",
       "    </tr>\n",
       "    <tr>\n",
       "      <th>...</th>\n",
       "      <td>...</td>\n",
       "      <td>...</td>\n",
       "      <td>...</td>\n",
       "      <td>...</td>\n",
       "      <td>...</td>\n",
       "    </tr>\n",
       "    <tr>\n",
       "      <th>4996</th>\n",
       "      <td>379</td>\n",
       "      <td>redviolet</td>\n",
       "      <td>125</td>\n",
       "      <td>33</td>\n",
       "      <td>99</td>\n",
       "    </tr>\n",
       "    <tr>\n",
       "      <th>4997</th>\n",
       "      <td>507</td>\n",
       "      <td>redblue</td>\n",
       "      <td>133</td>\n",
       "      <td>0</td>\n",
       "      <td>124</td>\n",
       "    </tr>\n",
       "    <tr>\n",
       "      <th>4998</th>\n",
       "      <td>551</td>\n",
       "      <td>redviolet</td>\n",
       "      <td>178</td>\n",
       "      <td>120</td>\n",
       "      <td>244</td>\n",
       "    </tr>\n",
       "    <tr>\n",
       "      <th>4999</th>\n",
       "      <td>566</td>\n",
       "      <td>midblue</td>\n",
       "      <td>77</td>\n",
       "      <td>109</td>\n",
       "      <td>247</td>\n",
       "    </tr>\n",
       "  </tbody>\n",
       "</table>\n",
       "<p>5000 rows × 5 columns</p>\n",
       "</div>"
      ],
      "text/plain": [
       "      sample_id      colour_name    R    G    B\n",
       "0            24        darkkhaki   77   72   52\n",
       "1            64        darkbrown   77   38   28\n",
       "2           202  palegreyishblue  111  120  164\n",
       "3           236         palepink  212  160  187\n",
       "...         ...              ...  ...  ...  ...\n",
       "4996        379        redviolet  125   33   99\n",
       "4997        507          redblue  133    0  124\n",
       "4998        551        redviolet  178  120  244\n",
       "4999        566          midblue   77  109  247\n",
       "\n",
       "[5000 rows x 5 columns]"
      ]
     },
     "execution_count": 13,
     "metadata": {},
     "output_type": "execute_result"
    }
   ],
   "source": [
    "data = clean_df(data, 'colour_name')\n",
    "data"
   ]
  },
  {
   "cell_type": "markdown",
   "id": "71a31243",
   "metadata": {},
   "source": [
    "The subsequent code checks if the colour words given as an input exist in the clean dataset and if so, computes the averaged RGB triplet for each term.\n",
    "\n",
    "It computes this by using set comprehension to create a set of all the colour terms in our default list that are also the colour naming dataset. Since, the dataset contains duplicates in the `colour_name` column, I have used a set instead of a list so that the collection of colours that Bob knows does not contain duplicates.\n",
    "\n",
    "Bob then computes the average RGB values of each known word only by parsing each colour in the `known_colour_data` dataset through the `compute_avgs` function."
   ]
  },
  {
   "cell_type": "code",
   "execution_count": 14,
   "id": "297a6a01",
   "metadata": {},
   "outputs": [
    {
     "data": {
      "text/html": [
       "<div>\n",
       "<style scoped>\n",
       "    .dataframe tbody tr th:only-of-type {\n",
       "        vertical-align: middle;\n",
       "    }\n",
       "\n",
       "    .dataframe tbody tr th {\n",
       "        vertical-align: top;\n",
       "    }\n",
       "\n",
       "    .dataframe thead th {\n",
       "        text-align: right;\n",
       "    }\n",
       "</style>\n",
       "<table border=\"1\" class=\"dataframe\">\n",
       "  <thead>\n",
       "    <tr style=\"text-align: right;\">\n",
       "      <th></th>\n",
       "      <th>R</th>\n",
       "      <th>G</th>\n",
       "      <th>B</th>\n",
       "    </tr>\n",
       "    <tr>\n",
       "      <th>colour_name</th>\n",
       "      <th></th>\n",
       "      <th></th>\n",
       "      <th></th>\n",
       "    </tr>\n",
       "  </thead>\n",
       "  <tbody>\n",
       "    <tr>\n",
       "      <th>black</th>\n",
       "      <td>28.065574</td>\n",
       "      <td>24.213115</td>\n",
       "      <td>27.803279</td>\n",
       "    </tr>\n",
       "    <tr>\n",
       "      <th>blue</th>\n",
       "      <td>73.441315</td>\n",
       "      <td>105.488263</td>\n",
       "      <td>185.774648</td>\n",
       "    </tr>\n",
       "    <tr>\n",
       "      <th>brown</th>\n",
       "      <td>111.178571</td>\n",
       "      <td>67.107143</td>\n",
       "      <td>36.678571</td>\n",
       "    </tr>\n",
       "    <tr>\n",
       "      <th>green</th>\n",
       "      <td>79.323671</td>\n",
       "      <td>150.874396</td>\n",
       "      <td>87.685990</td>\n",
       "    </tr>\n",
       "    <tr>\n",
       "      <th>orange</th>\n",
       "      <td>219.219780</td>\n",
       "      <td>124.208791</td>\n",
       "      <td>54.758242</td>\n",
       "    </tr>\n",
       "    <tr>\n",
       "      <th>pink</th>\n",
       "      <td>220.500000</td>\n",
       "      <td>111.974576</td>\n",
       "      <td>174.737288</td>\n",
       "    </tr>\n",
       "    <tr>\n",
       "      <th>purple</th>\n",
       "      <td>119.843866</td>\n",
       "      <td>55.449814</td>\n",
       "      <td>146.182156</td>\n",
       "    </tr>\n",
       "    <tr>\n",
       "      <th>white</th>\n",
       "      <td>227.904762</td>\n",
       "      <td>221.166667</td>\n",
       "      <td>229.785714</td>\n",
       "    </tr>\n",
       "    <tr>\n",
       "      <th>yellow</th>\n",
       "      <td>223.589474</td>\n",
       "      <td>201.936842</td>\n",
       "      <td>68.252632</td>\n",
       "    </tr>\n",
       "  </tbody>\n",
       "</table>\n",
       "</div>"
      ],
      "text/plain": [
       "                      R           G           B\n",
       "colour_name                                    \n",
       "black         28.065574   24.213115   27.803279\n",
       "blue          73.441315  105.488263  185.774648\n",
       "brown        111.178571   67.107143   36.678571\n",
       "green         79.323671  150.874396   87.685990\n",
       "orange       219.219780  124.208791   54.758242\n",
       "pink         220.500000  111.974576  174.737288\n",
       "purple       119.843866   55.449814  146.182156\n",
       "white        227.904762  221.166667  229.785714\n",
       "yellow       223.589474  201.936842   68.252632"
      ]
     },
     "execution_count": 14,
     "metadata": {},
     "output_type": "execute_result"
    }
   ],
   "source": [
    "known_colour_data = {colour for colour in words if colour in data.colour_name.values}\n",
    "known_avgs = compute_avgs(data, known_colour_data)\n",
    "known_avgs"
   ]
  },
  {
   "cell_type": "markdown",
   "id": "680ec76a",
   "metadata": {},
   "source": [
    "Then, Bob reports back for each colour with the average RGB value if the colour is known, or that it does not know that colour."
   ]
  },
  {
   "cell_type": "code",
   "execution_count": 15,
   "id": "8291dad4",
   "metadata": {},
   "outputs": [
    {
     "name": "stdout",
     "output_type": "stream",
     "text": [
      "The colour 'white' has an average RGB value of (227.9, 221.2, 229.8).\n",
      "The colour 'black' has an average RGB value of (28.1, 24.2, 27.8).\n",
      "The colour 'yellow' has an average RGB value of (223.6, 201.9, 68.3).\n",
      "The colour 'green' has an average RGB value of (79.3, 150.9, 87.7).\n",
      "The colour 'blue' has an average RGB value of (73.4, 105.5, 185.8).\n",
      "The colour 'brown' has an average RGB value of (111.2, 67.1, 36.7).\n",
      "The colour 'purple' has an average RGB value of (119.8, 55.4, 146.2).\n",
      "The colour 'orange' has an average RGB value of (219.2, 124.2, 54.8).\n",
      "The colour 'pink' has an average RGB value of (220.5, 112.0, 174.7).\n",
      "Sorry Alice, I do not know the colour 'lorem'.\n",
      "Sorry Alice, I do not know the colour 'ipsum'.\n"
     ]
    }
   ],
   "source": [
    "for colour in words:\n",
    "    if colour in known_colour_data:\n",
    "        # Converts the RGB value into a tuple instead of three columns\n",
    "        # We can do this since we have set the colour name to be the index\n",
    "        r, g, b = tuple(known_avgs.loc[colour]) \n",
    "        print(f\"The colour '{colour}' has an average RGB value of ({r:.1f}, {g:.1f}, {b:.1f}).\")\n",
    "    else:\n",
    "        print(f\"Sorry Alice, I do not know the colour '{colour}'.\")"
   ]
  },
  {
   "cell_type": "markdown",
   "id": "90d4ce16",
   "metadata": {},
   "source": [
    "The next cell loads the X11 reference colour list, cleans the data and removes duplicates.\n",
    "\n",
    "**Again, ensure that the rgb_x11.csv file (Available on Canvas) is in the same directory as this python noteboook**. "
   ]
  },
  {
   "cell_type": "code",
   "execution_count": 16,
   "id": "8a742338",
   "metadata": {},
   "outputs": [],
   "source": [
    "# cleaning of the dataset happens inside this function\n",
    "x11 = load_x11_colours('rgb_x11.csv')\n",
    "\n",
    "# calculate dictionary of colour : rgb tuples.\n",
    "x11_dict = x11.apply(tuple, axis=1).to_dict()\n",
    "\n",
    "known_colours = calculate_x11_known_colours(x11_dict, known_colour_data)"
   ]
  },
  {
   "cell_type": "markdown",
   "id": "f6f0ae81",
   "metadata": {},
   "source": [
    "Then the program creates a dictionary where each colour word is a key paired with a single RGB triplet of colour values and checks if the words in the default colour list exist in the X11 dictionary, via the `caculate_x11_known_colours function`. "
   ]
  },
  {
   "cell_type": "markdown",
   "id": "dbba264d",
   "metadata": {},
   "source": [
    "The following code measures (and prints) the Euclidean distance between the average RGB triplets from the colour naming dataset and the corresponding X11 triplets for the default colours provided by Alice. "
   ]
  },
  {
   "cell_type": "code",
   "execution_count": 17,
   "id": "44ad56d3",
   "metadata": {},
   "outputs": [
    {
     "name": "stdout",
     "output_type": "stream",
     "text": [
      "The Euclidian distance for green is 157.55.\n",
      "The Euclidian distance for blue is 145.99.\n",
      "The Euclidian distance for yellow is 91.98.\n",
      "The Euclidian distance for purple is 104.71.\n",
      "The Euclidian distance for black is 46.34.\n",
      "The Euclidian distance for pink is 91.61.\n",
      "The Euclidian distance for white is 50.15.\n",
      "The Euclidian distance for orange is 77.09.\n",
      "The Euclidian distance for brown is 59.63.\n"
     ]
    }
   ],
   "source": [
    "start = time.perf_counter_ns()\n",
    "\n",
    "known_colours = calculate_x11_known_colours(x11_dict, known_colour_data)\n",
    "known_euclidists = calculate_euclid_dists(known_avgs, x11_dict, known_colours)\n",
    "\n",
    "time_perf_f = time.perf_counter_ns() - start\n",
    "\n",
    "for key, val in known_euclidists.items():\n",
    "    print(f\"The Euclidian distance for {key} is {val:.2f}.\")"
   ]
  },
  {
   "cell_type": "markdown",
   "id": "c0525b1a",
   "metadata": {},
   "source": [
    "Bob also measures the time (in nanoseconds) required to perform these comparisons using the time libary."
   ]
  },
  {
   "cell_type": "markdown",
   "id": "0c7084f3",
   "metadata": {},
   "source": [
    "## Performance Report:"
   ]
  },
  {
   "cell_type": "markdown",
   "id": "46defd41",
   "metadata": {},
   "source": [
    "The following section is a performance report which is produced by Bob. Run each cell consecutively."
   ]
  },
  {
   "cell_type": "code",
   "execution_count": 18,
   "id": "bb198f7b",
   "metadata": {},
   "outputs": [
    {
     "name": "stdout",
     "output_type": "stream",
     "text": [
      "There are 9 known colours out of 11 input words.\n",
      "\n",
      "The time required to calculate the Euclidean distances between mean and reference colour values for each known colour word of the given default word list is 1,221,100 nanoseconds.\n"
     ]
    }
   ],
   "source": [
    "print(f\"There are {len(known_colours)} known colours out of {len(words)} input words.\")\n",
    "\n",
    "print(\n",
    "    f\"\\nThe time required to calculate the Euclidean distances between mean \" \\\n",
    "    f\"and reference colour values for each known colour word of the given \" \\\n",
    "    f\"default word list is {time_perf_f:,} nanoseconds.\"\n",
    ")"
   ]
  },
  {
   "cell_type": "markdown",
   "id": "d838d0d1",
   "metadata": {},
   "source": [
    "The next cell computes a bar plot with the Euclidean distances between the mean and reference values. The first cell sorts the dictionary of distances in preperation for this, and the second uses `matplotlib` to visualise this data. \n",
    "\n",
    "Bob draws the bars of the barplot using the corresponding colours. I have coded this by indexing the X11 dataset by the colour term in question (since we know that each colour must be in the X11 dataset if we have calculated the Euclidean Distance). Thus, if colour terms in the input list change the colours of the bars in the bar plot should still correspond."
   ]
  },
  {
   "cell_type": "code",
   "execution_count": 19,
   "id": "f652b39f",
   "metadata": {},
   "outputs": [],
   "source": [
    "# sort the colour/distance pairs into ascending order based on distance\n",
    "known_euclidists_sorted = sorted(known_euclidists.items(), key=lambda tup: tup[1])\n",
    "colour_names = [colour for colour, _ in known_euclidists_sorted]\n",
    "dists = [dist for _, dist in known_euclidists_sorted]"
   ]
  },
  {
   "cell_type": "code",
   "execution_count": 20,
   "id": "2f8070c2",
   "metadata": {},
   "outputs": [
    {
     "data": {
      "image/png": "[encoded data removed]",
      "text/plain": [
       "<Figure size 432x288 with 1 Axes>"
      ]
     },
     "metadata": {
      "needs_background": "light"
     },
     "output_type": "display_data"
    }
   ],
   "source": [
    "barwidth = 0.25\n",
    "colour_vals = x11.loc[colour_names].values / 255\n",
    "plt.bar(colour_names, dists, width = barwidth, color=colour_vals)\n",
    "plt.xlabel('Known colour word of given defualt word list')\n",
    "plt.ylabel('Euclidian distance')\n",
    "plt.title('Euclidian distances between mean and reference colour values')\n",
    "ax = plt.gca()\n",
    "#sets the background colour to grey so that the white bar is visible\n",
    "ax.set_facecolor('#dddddd') \n",
    "plt.show()"
   ]
  },
  {
   "cell_type": "markdown",
   "id": "16667708",
   "metadata": {},
   "source": [
    "Bob then includes the following RGB image where the top-half is coloured using the reference X11 RGB triplet and the bottom-half is coloured using the averaged RGB triplet of Bob for each colour word. I have used the `.repeat` function in order to display this in a readable way on one figure."
   ]
  },
  {
   "cell_type": "code",
   "execution_count": 21,
   "id": "30e9d744",
   "metadata": {},
   "outputs": [
    {
     "data": {
      "image/png": "[encoded data removed]",
      "text/plain": [
       "<Figure size 432x288 with 1 Axes>"
      ]
     },
     "metadata": {
      "needs_background": "light"
     },
     "output_type": "display_data"
    }
   ],
   "source": [
    "%matplotlib inline\n",
    "\n",
    "width = 50\n",
    "x11_colour_vals = [x11_dict[colour] for colour in colour_names]\n",
    "# create empty image array\n",
    "colours = np.zeros([480, len(colour_names) * width, 3], dtype=np.uint8)\n",
    "\n",
    "# repeat each colour pixel 50 times and repeat 240 times vertically\n",
    "colours[:240,:,:] = np.repeat(x11_colour_vals, width, axis=0)  # x11 dataset top half\n",
    "colours[240:,:,:] = np.repeat(known_avgs.loc[colour_names].values, width, axis=0) # colour naming dataset bottom half\n",
    "img = Image.fromarray(colours)\n",
    "\n",
    "plt.imshow(img)\n",
    "plt.axis('off');"
   ]
  },
  {
   "cell_type": "markdown",
   "id": "2fd74906",
   "metadata": {},
   "source": [
    "Below, Bob includes the result of an automatic test in which the mean Euclidean\n",
    "distance should be equal to 92 units for the given default list of words. This is done by parsing `mean` (which we have asigned below) and our expected result into the `checkDistance` function. "
   ]
  },
  {
   "cell_type": "code",
   "execution_count": 22,
   "id": "5c70ba0c",
   "metadata": {},
   "outputs": [
    {
     "name": "stdout",
     "output_type": "stream",
     "text": [
      "('Expected value correct', 92)\n"
     ]
    }
   ],
   "source": [
    "mean = sum(known_euclidists.values()) / len(known_euclidists.values())\n",
    "\n",
    "print(checkDistance(mean, 92))"
   ]
  },
  {
   "cell_type": "markdown",
   "id": "99fcfa5f",
   "metadata": {},
   "source": [
    "Finally, Bob prints the unknown colour words in the given default list of words, or lets Alice know that there are no unknown colour words."
   ]
  },
  {
   "cell_type": "code",
   "execution_count": 23,
   "id": "6d7e0123",
   "metadata": {},
   "outputs": [
    {
     "name": "stdout",
     "output_type": "stream",
     "text": [
      "I do not the following 2 colour words: ['lorem', 'ipsum'].\n"
     ]
    }
   ],
   "source": [
    "not_known_colours = [colour for colour in words if colour not in known_colours]\n",
    "\n",
    "if not_known_colours:\n",
    "    print(f'I do not the following {len(not_known_colours)} colour words: {not_known_colours}.')\n",
    "else:\n",
    "    print(f'There are no unknown colour words.')"
   ]
  },
  {
   "cell_type": "markdown",
   "id": "fb7016e0",
   "metadata": {},
   "source": [
    "### Hidden Data:"
   ]
  },
  {
   "cell_type": "markdown",
   "id": "d1ca821e",
   "metadata": {},
   "source": [
    "In the following cell, Bob computes the intersection (the colours terms which are in both datasets) of the colours in the X11 dataset and the colours in the colour naming dataset.\n",
    "\n",
    "Then using this Bob calculates the Euclidean Distance for all colours in the intersection and the time it takes to compute this."
   ]
  },
  {
   "cell_type": "code",
   "execution_count": 24,
   "id": "58b11e11",
   "metadata": {},
   "outputs": [
    {
     "name": "stdout",
     "output_type": "stream",
     "text": [
      "aquamarine:\t46.37\n",
      "azure:\t167.21\n",
      "beige:\t123.80\n",
      "bisque:\t161.60\n",
      "black:\t46.34\n",
      "blue:\t145.99\n",
      "blueviolet:\t81.11\n",
      "brown:\t59.63\n",
      "chartreuse:\t95.35\n",
      "chocolate:\t130.10\n",
      "coral:\t44.70\n",
      "cornflowerblue:\t47.21\n",
      "cyan:\t110.94\n",
      "darkgreen:\t67.64\n",
      "darkgrey:\t175.89\n",
      "darkkhaki:\t167.00\n",
      "darkolivegreen:\t52.50\n",
      "darkorange:\t100.90\n",
      "darksalmon:\t80.01\n",
      "darkturquoise:\t121.20\n",
      "darkviolet:\t172.04\n",
      "deeppink:\t61.43\n",
      "forestgreen:\t58.29\n",
      "gold:\t108.34\n",
      "green:\t157.55\n",
      "greenyellow:\t58.45\n",
      "hotpink:\t69.05\n",
      "khaki:\t182.05\n",
      "lavender:\t152.38\n",
      "lemonchiffon:\t70.48\n",
      "lightblue:\t81.99\n",
      "lightcyan:\t119.29\n",
      "lightgrey:\t43.86\n",
      "lightpink:\t35.20\n",
      "lightsalmon:\t31.13\n",
      "lightskyblue:\t33.58\n",
      "lightyellow:\t120.00\n",
      "limegreen:\t97.67\n",
      "magenta:\t139.40\n",
      "maroon:\t90.76\n",
      "mediumblue:\t129.87\n",
      "mediumpurple:\t117.43\n",
      "midnightblue:\t40.95\n",
      "navy:\t68.32\n",
      "orange:\t77.09\n",
      "orangered:\t64.68\n",
      "orchid:\t113.30\n",
      "palegreen:\t66.85\n",
      "paleturquoise:\t48.40\n",
      "pink:\t91.61\n",
      "plum:\t193.70\n",
      "powderblue:\t59.19\n",
      "purple:\t104.71\n",
      "red:\t96.26\n",
      "royalblue:\t92.33\n",
      "saddlebrown:\t32.02\n",
      "salmon:\t25.44\n",
      "seagreen:\t79.05\n",
      "sienna:\t33.62\n",
      "skyblue:\t44.61\n",
      "springgreen:\t154.06\n",
      "steelblue:\t31.95\n",
      "tan:\t72.61\n",
      "turquoise:\t53.02\n",
      "violet:\t142.82\n",
      "wheat:\t107.22\n",
      "white:\t50.15\n",
      "yellow:\t91.98\n",
      "yellowgreen:\t32.97\n",
      "\n",
      "The datasets have 69 colour terms in common.\n",
      "\n",
      "Time required to compute Euclidean distances: 1,221,100 nanoseconds.\n"
     ]
    }
   ],
   "source": [
    "start = time.perf_counter_ns()\n",
    "\n",
    "# creates a set in order to avoid duplicates\n",
    "intersection_colours = {colour for colour in data.colour_name if colour in x11_dict}\n",
    "avg_colour_df = compute_avgs(data, intersection_colours)\n",
    "# creates a dictionary of colour in intersection : euclidean distance\n",
    "intersect_euclidists = {index: euclidist3D(row.values, x11_dict[index]) for index, row in avg_colour_df.iterrows() if index in x11_dict}\n",
    "\n",
    "end = time.perf_counter_ns()\n",
    "time_perf = end - start\n",
    "for key, val in intersect_euclidists.items():\n",
    "    print(f\"{key}:\\t{val:.2f}\")\n",
    "    \n",
    "print(f'\\nThe datasets have {len(intersection_colours)} colour terms in common.')\n",
    "\n",
    "print(f'\\nTime required to compute Euclidean distances: {time_perf_f:,} nanoseconds.')"
   ]
  },
  {
   "cell_type": "markdown",
   "id": "c90a19f2",
   "metadata": {},
   "source": [
    "Next, Bob visualises this as a bar plot. The first cell sorts the dictionary of distances in preperation for this, and the second uses `matplotlib` to visualise the data.\n",
    "\n",
    "We can see that average RGB value for 'salmon' is most similar to the X11 value for 'salmon', whilst, the average RGB value for 'plum' is the least similar."
   ]
  },
  {
   "cell_type": "code",
   "execution_count": 25,
   "id": "b9291ccf",
   "metadata": {},
   "outputs": [],
   "source": [
    "intersect_euclidists_sorted = sorted(intersect_euclidists.items(), key=lambda tup: tup[1])\n",
    "colours_intersect = [colour for colour, _ in intersect_euclidists_sorted]\n",
    "dists_intersect = [dist for _, dist in intersect_euclidists_sorted]"
   ]
  },
  {
   "cell_type": "code",
   "execution_count": 26,
   "id": "f06f01c7",
   "metadata": {
    "scrolled": true
   },
   "outputs": [
    {
     "name": "stderr",
     "output_type": "stream",
     "text": [
      "C:\\Users\\Isobel\\AppData\\Local\\Temp/ipykernel_14312/999401056.py:10: UserWarning: FixedFormatter should only be used together with FixedLocator\n",
      "  ax.set_xticklabels(labels=colours_intersect,rotation=90);\n"
     ]
    },
    {
     "data": {
      "image/png": "[encoded data removed]",
      "text/plain": [
       "<Figure size 1296x576 with 1 Axes>"
      ]
     },
     "metadata": {
      "needs_background": "light"
     },
     "output_type": "display_data"
    }
   ],
   "source": [
    "barwidth = 0.25\n",
    "colour_vals2 = x11.loc[colours_intersect].values / 255\n",
    "plt.figure(figsize=(18, 8))\n",
    "plt.bar(colours_intersect, dists_intersect, width = barwidth, color=colour_vals2)\n",
    "plt.xlabel('Colour')\n",
    "plt.ylabel('Euclidian distance')\n",
    "plt.title('Euclidian distances between mean and reference colour values')\n",
    "ax = plt.gca()\n",
    "ax.set_facecolor('#dddddd')\n",
    "ax.set_xticklabels(labels=colours_intersect,rotation=90);\n",
    "plt.show()"
   ]
  },
  {
   "cell_type": "markdown",
   "id": "d60f9f42",
   "metadata": {},
   "source": [
    "The following cells of code extract the frequency summary statistics for all colour terms in the colour naming dataset and visualise their frequency in a bar plot."
   ]
  },
  {
   "cell_type": "code",
   "execution_count": 27,
   "id": "3f8af20c",
   "metadata": {},
   "outputs": [
    {
     "data": {
      "image/png": "[encoded data removed]",
      "text/plain": [
       "<Figure size 432x288 with 1 Axes>"
      ]
     },
     "metadata": {
      "needs_background": "light"
     },
     "output_type": "display_data"
    }
   ],
   "source": [
    "colour_freqs = data.colour_name.value_counts()\n",
    "\n",
    "# Displays top 20 most frequent colours in the dataset\n",
    "num_colours = 20\n",
    "avg_colour_df = compute_avgs(data, colour_freqs[0:num_colours].index)\n",
    "# We get the colour values from avg_colour_df in this case since these colours are not necessarily in the X11 dataset.\n",
    "colour_freqs[0:num_colours].plot.bar(color=avg_colour_df.loc[colour_freqs[0:num_colours].index].values / 255);"
   ]
  },
  {
   "cell_type": "markdown",
   "id": "00fdc0d5",
   "metadata": {},
   "source": [
    "Next, Bob checks how frequent in the colour naming dataset the colours in the intersection are. Then, it plots this on a graph against the Euclidean distance to see if there is any correlation between the two. On inspection, it appears that there is little correlation."
   ]
  },
  {
   "cell_type": "code",
   "execution_count": 28,
   "id": "74613767",
   "metadata": {},
   "outputs": [
    {
     "data": {
      "image/png": "[encoded data removed]",
      "text/plain": [
       "<Figure size 1080x360 with 1 Axes>"
      ]
     },
     "metadata": {
      "needs_background": "light"
     },
     "output_type": "display_data"
    }
   ],
   "source": [
    "intersection_count = colour_freqs[colour_freqs.index.isin(set(x11.index))]\n",
    "intersection_dists = [intersect_euclidists[colour] for colour in intersection_count.index]\n",
    "\n",
    "plt.figure(figsize=(15, 5))\n",
    "plt.plot(intersection_count, intersection_dists)\n",
    "plt.xlabel(\"freq\")\n",
    "plt.ylabel(\"dist\");\n",
    "plt.xlim(0, colour_freqs.iloc[0]);"
   ]
  },
  {
   "cell_type": "markdown",
   "id": "54f93973",
   "metadata": {},
   "source": [
    "# Conclusion: ethical implications"
   ]
  },
  {
   "cell_type": "markdown",
   "id": "4e4960cf",
   "metadata": {},
   "source": [
    "The Colour Naming Game is supposedly being developed to help foreign language speakers learn colour names in English. Throughout this Python notebook we have tested the application, but, in order to fully evaluate whether the game achieves its aim, data on how fast players improve, if at all, is required. \n",
    "\n",
    "The integrity of the study could thereby be improved if we had another dataframe which corresponds to the `colour_naming_data` dataset in which the players guess is recorded next to the correct colour, thereby enabling us to count how often players guess incorrectly. Moreover, it would be useful to see whether players improve over time. \n",
    "\n",
    "However, ethical implications could arise as we are using the X11 values to verify the correctness of the players’ chosen RGB value. This is because the shortest Euclidean Distance between the two is not necessarily better than a longer distance, since in practice there is no one RGB triplet per colour. Therefore, the game could be evaluating people incorrectly, stunting their learning."
   ]
  },
  {
   "cell_type": "markdown",
   "id": "818130dd",
   "metadata": {},
   "source": [
    "#### Word count:"
   ]
  },
  {
   "cell_type": "code",
   "execution_count": 29,
   "id": "a641afba",
   "metadata": {},
   "outputs": [
    {
     "name": "stdout",
     "output_type": "stream",
     "text": [
      "Words in MarkDown: 1725\n",
      "Words in Headings: 22\n",
      "Words in Code: 975\n",
      "Total Words: 2722\n",
      "Maximum Words Allowed: 2500 +-10%\n"
     ]
    }
   ],
   "source": [
    "filepath = 'Programming with Data AE2.ipynb'\n",
    "with io.open(filepath, 'r', encoding='utf-8') as f:\n",
    "    nb = current.read(f, 'json')\n",
    "# Markdown counter\n",
    "md_counter = 0\n",
    "for cell in nb.worksheets[0].cells:\n",
    "    if cell.cell_type == \"markdown\":\n",
    "        md_counter += len(cell['source'].strip().split())\n",
    "print(f'Words in MarkDown: {md_counter}')\n",
    "# Headings counter\n",
    "head_counter = 0\n",
    "for cell in nb.worksheets[0].cells:\n",
    "    if cell.cell_type == \"heading\":\n",
    "        head_counter += len(cell['source'].replace('#', '').strip().split())\n",
    "print(f'Words in Headings: {head_counter}')\n",
    "# Code counter\n",
    "code_counter = 0\n",
    "for cell in nb.worksheets[0].cells:\n",
    "    if cell.cell_type == \"code\":\n",
    "        code_counter += len(cell['input'].replace('#', '').strip().split())\n",
    "print(f'Words in Code: {code_counter}')\n",
    "# Total words\n",
    "total_counter = code_counter + head_counter + md_counter\n",
    "print(f'Total Words: {total_counter}')\n",
    "print('Maximum Words Allowed: 2500 +-10%')"
   ]
  },
  {
   "cell_type": "code",
   "execution_count": null,
   "id": "59ff9dd3",
   "metadata": {},
   "outputs": [],
   "source": []
  }
 ],
 "metadata": {
  "kernelspec": {
   "display_name": "Python 3 (ipykernel)",
   "language": "python",
   "name": "python3"
  },
  "language_info": {
   "codemirror_mode": {
    "name": "ipython",
    "version": 3
   },
   "file_extension": ".py",
   "mimetype": "text/x-python",
   "name": "python",
   "nbconvert_exporter": "python",
   "pygments_lexer": "ipython3",
   "version": "3.9.7"
  }
 },
 "nbformat": 4,
 "nbformat_minor": 5
}
